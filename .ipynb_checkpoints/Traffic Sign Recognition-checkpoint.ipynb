{
 "cells": [
  {
   "cell_type": "markdown",
   "id": "be5ef88d-6357-4b1f-b4b1-b04c7ddb00c7",
   "metadata": {},
   "source": [
    "# Traffic Sign Recognition"
   ]
  },
  {
   "cell_type": "markdown",
   "id": "9e1f7f0a-e460-4384-ae54-0d4c8bdccc13",
   "metadata": {},
   "source": [
    "### 2024, Spring - Szabo Lorand"
   ]
  },
  {
   "cell_type": "code",
   "execution_count": 1,
   "id": "81cc3e12-917c-4e02-9d4d-c3e84f08aa4a",
   "metadata": {},
   "outputs": [],
   "source": [
    "import numpy as np\n",
    "import pandas as pd\n",
    "import cv2\n",
    "import matplotlib.pyplot as plt"
   ]
  },
  {
   "cell_type": "markdown",
   "id": "b01f11e7-3d4d-4649-8994-0b2cc97d3b6d",
   "metadata": {},
   "source": [
    "## 1. Denoising using Median Filtering\n",
    "\n",
    "This algorithm takes the image, a window size and for each pixel it calculates the median of each pixel in its neighbourhood, and setting the result to new pixel's value."
   ]
  },
  {
   "cell_type": "code",
   "execution_count": 2,
   "id": "5c7691d6-11e5-4876-b04c-d209cb5d9463",
   "metadata": {},
   "outputs": [],
   "source": [
    "def median_filter(image, window_size):\n",
    "    pad_size = window_size // 2 # floor division\n",
    "\n",
    "    # adds border/padding of size pad_size to the image\n",
    "    padded_image = cv2.copyMakeBorder(image, pad_size, pad_size, pad_size, pad_size, cv2.BORDER_REFLECT)\n",
    "\n",
    "    filtered_image = np.zeros_like(image)\n",
    "\n",
    "    for i in range(pad_size, padded_image.shape[0] - pad_size):\n",
    "        for j in range(pad_size, padded_image.shape[1] - pad_size):\n",
    "            neighbourhood = padded_image[i - pad_size : i + pad_size + 1, j - pad_size : j + pad_size + 1, :]\n",
    "\n",
    "            # iterate through R, G, B values\n",
    "            for k in range(3):\n",
    "                filtered_image[i - pad_size, j - pad_size, k] = np.median(neighbourhood[:, :, k])\n",
    "                # the offset of the padding is subtracted\n",
    "\n",
    "    return filtered_image"
   ]
  },
  {
   "cell_type": "markdown",
   "id": "b3c23b83-4e40-4121-b007-4151265ee380",
   "metadata": {},
   "source": [
    "## 2. Contrast Enhancement Algorithm\n",
    "\n",
    "The simple contrast enhancement algorithm computes the histogram of the grayscale input image (originally colored) and calculates the normalized cumulative distribution function (CDF) that shows how many pixels have lower or equal value to a certain value. Then, it interpolates the original values to obtain the full color scale, based on the normalized CDF. In other words, where the slope of the CDF is shallower, more pixel intensities are mapped to the same value. This results in an image that uses the a larger color scale than the original one.\n",
    "\n",
    "The purpose of doing operations (histogram calculation) on the grayscale image is to not distort the proportion of the 3 color scales, which by applying the algorithm should remain constant.\n",
    "\n",
    "__Result:__\n",
    "\n",
    "The algorithm can be tested using the plot_histogram function and on the CDF function shallow slopes can be observed at the beginning (black) and at the end (white) of the scale. This results in peaks at the beginning and at the end of the histograms."
   ]
  },
  {
   "cell_type": "code",
   "execution_count": 3,
   "id": "082f3bba-5c45-41c2-be01-8341c3c8801d",
   "metadata": {},
   "outputs": [],
   "source": [
    "def colored_to_grayscale(image):\n",
    "    height = image.shape[0]\n",
    "    width = image.shape[1]\n",
    "    colors = image.shape[2]\n",
    "\n",
    "    grayscale_image = np.zeros((height, width), dtype = np.uint8)\n",
    "\n",
    "    for i in range(height):\n",
    "        for j in range(width):\n",
    "            b, g, r = image[i, j]\n",
    "            # using the magic formula to calculate grayscale - already normalized\n",
    "            grayscale_intensity = int(0.299 * r + 0.587 * g + 0.114 * b)\n",
    "            grayscale_image[i, j] = grayscale_intensity\n",
    "\n",
    "    return grayscale_image"
   ]
  },
  {
   "cell_type": "code",
   "execution_count": 4,
   "id": "4e02419f-8dfa-44a0-8afa-74facd330e04",
   "metadata": {},
   "outputs": [],
   "source": [
    "def contrast_enhancement(image, plot):\n",
    "    gray_image = colored_to_grayscale(image)\n",
    "    hist, bins = np.histogram(gray_image.flatten(), 256, [0, 256])\n",
    "\n",
    "    cdf = hist.cumsum()\n",
    "\n",
    "    # formula from the lab pdf with goutmin = 0 and goutmax = 255: gout = ginmin + (gin - ginmin) * (goutmax - goutmin) / (ginmax ginmin)\n",
    "    cdf_normalized = ((cdf - cdf.min()) * 255) / (cdf.max() - cdf.min())\n",
    "\n",
    "    enhanced_image = np.zeros_like(image)\n",
    "    for i in range(3):\n",
    "        interpolated_values = np.interp(image[:,:,i].flatten(), bins[:-1], cdf_normalized)\n",
    "        enhanced_image[:,:,i] = interpolated_values.reshape(image[:,:,i].shape).astype(np.uint8)\n",
    "\n",
    "    if plot:\n",
    "        plot_histogram(image, enhanced_image, cdf_normalized)\n",
    "    return enhanced_image"
   ]
  },
  {
   "cell_type": "markdown",
   "id": "82d325c1-446b-4899-9d44-b7c0e2e361e3",
   "metadata": {},
   "source": [
    "Display histogram and CDF:"
   ]
  },
  {
   "cell_type": "code",
   "execution_count": 5,
   "id": "47176a93-ae2a-4030-8976-ba55357eea84",
   "metadata": {},
   "outputs": [],
   "source": [
    "def plot_histogram(image, enhanced_image, cdf_normalized):\n",
    "    # Plot the histogram for each color channel\n",
    "    plt.figure(figsize=(15, 5))\n",
    "    for i, color in enumerate(['red', 'green', 'blue']):\n",
    "        plt.subplot(1, 3, i+1)\n",
    "        plt.hist(image[:,:,i].flatten(), 256, [0, 256], color=color, alpha=0.5, label='Original')\n",
    "        plt.hist(enhanced_image[:,:,i].flatten(), 256, [0, 256], color='m', alpha=0.5, label='Enhanced')\n",
    "        plt.xlabel('Pixel Intensity')\n",
    "        plt.ylabel('Frequency')\n",
    "        plt.title(f'Histogram for Channel {color.upper()}')\n",
    "        plt.legend()\n",
    "        \n",
    "    plt.tight_layout()\n",
    "    plt.show()\n",
    "    \n",
    "    # plot CDF\n",
    "    plt.subplot(1, 2, 2)\n",
    "    plt.plot(cdf_normalized, color='g')\n",
    "    plt.xlabel('Pixel Intensity')\n",
    "    plt.ylabel('CDF')\n",
    "    plt.title('Cumulative Distribution Function (CDF)')\n",
    "    \n",
    "    plt.show()"
   ]
  },
  {
   "cell_type": "markdown",
   "id": "558894fc-23c2-4147-aa56-82f740209545",
   "metadata": {},
   "source": [
    "## Testing Image Preporcessing"
   ]
  },
  {
   "cell_type": "markdown",
   "id": "50c457a4-2358-4855-b411-451d3895f851",
   "metadata": {},
   "source": [
    "Read input, set up parameters:"
   ]
  },
  {
   "cell_type": "code",
   "execution_count": 6,
   "id": "e6de3bcb-b9f9-49cb-9be9-9ec1803b99c6",
   "metadata": {},
   "outputs": [],
   "source": [
    "noisy_image = cv2.imread('./Images/give-way-1.jpg', cv2.IMREAD_COLOR)\n",
    "window_size = 3"
   ]
  },
  {
   "cell_type": "markdown",
   "id": "a6b0eb39-f178-4377-8356-88a2263b9aa4",
   "metadata": {},
   "source": [
    "Denoise image:"
   ]
  },
  {
   "cell_type": "code",
   "execution_count": 21,
   "id": "f5b2219c-a4fa-41b5-b559-ab13b0789a80",
   "metadata": {},
   "outputs": [],
   "source": [
    "denoised_image = median_filter(noisy_image, window_size)\n",
    "\n",
    "cv2.imshow('Noisy image', noisy_image)\n",
    "cv2.imshow('Denoised image', denoised_image)\n",
    "cv2.waitKey(0)\n",
    "cv2.destroyAllWindows()"
   ]
  },
  {
   "cell_type": "markdown",
   "id": "7a530dad-2d92-4ba3-9281-e2e2c32d635a",
   "metadata": {},
   "source": [
    "Contrast enhancement:"
   ]
  },
  {
   "cell_type": "code",
   "execution_count": 9,
   "id": "342f61c2-9308-48aa-b45c-c2672c9f12c4",
   "metadata": {},
   "outputs": [
    {
     "data": {
      "image/png": "[encoded data removed]",
      "text/plain": [
       "<Figure size 1500x500 with 3 Axes>"
      ]
     },
     "metadata": {},
     "output_type": "display_data"
    },
    {
     "data": {
      "image/png": "[encoded data removed]",
      "text/plain": [
       "<Figure size 640x480 with 1 Axes>"
      ]
     },
     "metadata": {},
     "output_type": "display_data"
    }
   ],
   "source": [
    "enhanced_image = contrast_enhancement(noisy_image, 1)\n",
    "\n",
    "cv2.imshow('Contrasty image', enhanced_image)\n",
    "cv2.waitKey(0)\n",
    "cv2.destroyAllWindows()"
   ]
  },
  {
   "cell_type": "markdown",
   "id": "7c3f2f19-dc69-4ce9-a41f-d54a1527cf25",
   "metadata": {},
   "source": [
    "### Canny Edge Detection\n",
    "\n",
    "Firstly, the denoised and contrast-enhanced image has to be transformed to grayscale and than the edge detection algorithm can be applied to it."
   ]
  },
  {
   "cell_type": "markdown",
   "id": "4f07c80f-4942-4209-8914-4de2d2519925",
   "metadata": {},
   "source": [
    "__Preprocessing:__"
   ]
  },
  {
   "cell_type": "code",
   "execution_count": 7,
   "id": "3c4aa32e-b499-47e3-90a5-9346e1926d28",
   "metadata": {},
   "outputs": [],
   "source": [
    "denoised_image = median_filter(noisy_image, window_size)\n",
    "enhanced_denoised_image = contrast_enhancement(denoised_image, 0)\n",
    "gray_image_processed = colored_to_grayscale(enhanced_denoised_image)"
   ]
  },
  {
   "cell_type": "markdown",
   "id": "e595dd1b-bf59-4141-b824-d3af694626da",
   "metadata": {},
   "source": [
    "__Edge Detection:__"
   ]
  },
  {
   "cell_type": "code",
   "execution_count": 22,
   "id": "5015e7a2-db7a-4e23-848e-800758fcc872",
   "metadata": {},
   "outputs": [
    {
     "data": {
      "text/plain": [
       "-1"
      ]
     },
     "execution_count": 22,
     "metadata": {},
     "output_type": "execute_result"
    }
   ],
   "source": [
    "edges = cv2.Canny(gray_image_processed, 100, 200)\n",
    "\n",
    "cv2.imshow(\"Edges\", edges)\n",
    "cv2.waitKey(0)"
   ]
  },
  {
   "cell_type": "markdown",
   "id": "7ca95863-d7d1-4020-8d36-c444d044da83",
   "metadata": {},
   "source": [
    "## Color-based Segmentation"
   ]
  },
  {
   "cell_type": "code",
   "execution_count": 19,
   "id": "5b0997aa-5000-487f-937c-76828988ad82",
   "metadata": {},
   "outputs": [],
   "source": [
    "# define color thresholds\n",
    "\n",
    "# Red\n",
    "lower_red1 = (0, 150, 150)\n",
    "upper_red1 = (10, 255, 255)\n",
    "lower_red2 = (165, 150, 150)\n",
    "upper_red2 = (179, 255, 255)\n",
    "\n",
    "# Blue\n",
    "lower_blue = (90, 150, 150)\n",
    "upper_blue = (120, 255, 255)\n",
    "\n",
    "# Yellow\n",
    "lower_yellow = (20, 150, 150)\n",
    "upper_yellow = (35, 255, 255)\n",
    "\n",
    "# Black\n",
    "lower_black = (0, 0, 0)\n",
    "upper_black = (179, 255, 5)\n",
    "\n",
    "def color_segmentation(image, window_size = None):\n",
    "    # transform image to HSV\n",
    "    hsv_image = cv2.cvtColor(image, cv2.COLOR_BGR2HSV)\n",
    "\n",
    "    # create a mask for each color range\n",
    "    mask_red1 = cv2.inRange(hsv_image, lower_red1, upper_red1)\n",
    "    mask_red2 = cv2.inRange(hsv_image, lower_red2, upper_red2)\n",
    "    mask_blue = cv2.inRange(hsv_image, lower_blue, upper_blue)\n",
    "    mask_yellow = cv2.inRange(hsv_image, lower_yellow, upper_yellow)\n",
    "    mask_black = cv2.inRange(hsv_image, lower_black, upper_black)\n",
    "\n",
    "    mask_red = mask_red1 | mask_red2\n",
    "\n",
    "    if window_size is not None:\n",
    "        window = np.ones(window_size, np.uint8)\n",
    "    else:\n",
    "        window = np.ones((3, 3), np.uint8)\n",
    "\n",
    "    # TODO: rewrite opening and closing\n",
    "    mask_red = cv2.morphologyEx(mask_red, cv2.MORPH_OPEN, window)\n",
    "    mask_red = cv2.morphologyEx(mask_red, cv2.MORPH_CLOSE, window)\n",
    "    \n",
    "    mask_blue = cv2.morphologyEx(mask_blue, cv2.MORPH_OPEN, window)\n",
    "    mask_blue = cv2.morphologyEx(mask_blue, cv2.MORPH_CLOSE, window)\n",
    "\n",
    "    mask_yellow = cv2.morphologyEx(mask_yellow, cv2.MORPH_OPEN, window)\n",
    "    mask_yellow = cv2.morphologyEx(mask_yellow, cv2.MORPH_CLOSE, window)\n",
    "    \n",
    "    mask_black = cv2.morphologyEx(mask_black, cv2.MORPH_OPEN, window)\n",
    "    mask_black = cv2.morphologyEx(mask_black, cv2.MORPH_CLOSE, window)\n",
    "\n",
    "    # create a data frame with the masks\n",
    "    dict = {\n",
    "        'red': mask_red,\n",
    "        'blue': mask_blue,\n",
    "        'yellow': mask_yellow,\n",
    "        'black': mask_black\n",
    "    }\n",
    "\n",
    "\n",
    "    return dict\n"
   ]
  },
  {
   "cell_type": "code",
   "execution_count": 20,
   "id": "2267b789-0d2d-4ec8-b0f7-3440e09d4b40",
   "metadata": {},
   "outputs": [
    {
     "data": {
      "text/plain": [
       "-1"
      ]
     },
     "execution_count": 20,
     "metadata": {},
     "output_type": "execute_result"
    }
   ],
   "source": [
    "color_signs = color_segmentation(enhanced_denoised_image)\n",
    "cv2.imshow(\"After Color Segmentation\", color_signs['red'])\n",
    "cv2.waitKey(0)"
   ]
  },
  {
   "cell_type": "markdown",
   "id": "141a1fde-87e3-4a77-8d3e-82790d84df2b",
   "metadata": {},
   "source": [
    "## Shape Detection"
   ]
  },
  {
   "cell_type": "markdown",
   "id": "a7bc7595-e0da-4636-84fc-d02088cd99ed",
   "metadata": {},
   "source": [
    "### Contour Drawing"
   ]
  },
  {
   "cell_type": "code",
   "execution_count": 21,
   "id": "49618e53-d746-46db-b3f6-5f4586af7f1d",
   "metadata": {},
   "outputs": [],
   "source": [
    "def draw_contour(image):\n",
    "    contour_image = np.zeros_like(image)\n",
    "    offsets = [(i, j) for i in range(-1, 2) for j in range(-1, 2)]\n",
    "\n",
    "    # leave 1 pixel for the offsets\n",
    "    for i in range(1, image.shape[0] - 1):\n",
    "        for j in range(1, image.shape[1] - 1):\n",
    "            if image[i, j] != 0:\n",
    "                for di, dj in offsets:\n",
    "                    if image[i + di, j + dj] == 0:\n",
    "                        contour_image[i, j] = 255\n",
    "                        break\n",
    "\n",
    "    return contour_image"
   ]
  },
  {
   "cell_type": "code",
   "execution_count": 22,
   "id": "3b711b18-43ad-4ec6-bd7e-1aa3b6ad0753",
   "metadata": {},
   "outputs": [
    {
     "data": {
      "text/plain": [
       "-1"
      ]
     },
     "execution_count": 22,
     "metadata": {},
     "output_type": "execute_result"
    }
   ],
   "source": [
    "contour_red = draw_contour(color_signs[\"red\"])\n",
    "cv2.imshow(\"Contours\", contour_red)\n",
    "cv2.waitKey(0)"
   ]
  },
  {
   "cell_type": "code",
   "execution_count": null,
   "id": "f311d248-6c51-4fe6-8e46-98649d95dda4",
   "metadata": {},
   "outputs": [],
   "source": []
  }
 ],
 "metadata": {
  "kernelspec": {
   "display_name": "Python 3 (ipykernel)",
   "language": "python",
   "name": "python3"
  },
  "language_info": {
   "codemirror_mode": {
    "name": "ipython",
    "version": 3
   },
   "file_extension": ".py",
   "mimetype": "text/x-python",
   "name": "python",
   "nbconvert_exporter": "python",
   "pygments_lexer": "ipython3",
   "version": "3.11.5"
  }
 },
 "nbformat": 4,
 "nbformat_minor": 5
}
